{
 "cells": [
  {
   "cell_type": "markdown",
   "metadata": {},
   "source": [
    "## 模型流程\n",
    "# tools.py\n",
    "- 載入模型\n",
    "- 取得輸入和輸出的資訊\n",
    "- '---'\n",
    "- 輸出使用者輸入的資料,  \n",
    "    以符合輸入的資訊\n",
    "- 輸出資料\n",
    "\n"
   ]
  }
 ],
 "metadata": {
  "language_info": {
   "name": "python"
  }
 },
 "nbformat": 4,
 "nbformat_minor": 2
}
