{
 "cells": [
  {
   "cell_type": "markdown",
   "metadata": {},
   "source": [
    "#### random:module\n",
    "* function\n",
    "* 常數\n",
    "* class"
   ]
  },
  {
   "cell_type": "markdown",
   "metadata": {},
   "source": [
    "#### 函數內的參數\n",
    "* \"*\"後面全部要使用引數名稱呼叫\n",
    "* \"/\"前面全部要使用引數值呼叫"
   ]
  },
  {
   "cell_type": "markdown",
   "metadata": {},
   "source": [
    "#### 自訂的function\n",
    "* 主程式變簡單\n",
    "* 可以重複呼叫\n",
    "* 可以讓開發者簡化邏輯思考能力\n"
   ]
  }
 ],
 "metadata": {
  "kernelspec": {
   "display_name": "base",
   "language": "python",
   "name": "python3"
  },
  "language_info": {
   "name": "python",
   "version": "3.12.2"
  }
 },
 "nbformat": 4,
 "nbformat_minor": 2
}
