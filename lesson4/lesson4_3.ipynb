{
 "cells": [
  {
   "cell_type": "code",
   "execution_count": null,
   "metadata": {},
   "outputs": [],
   "source": [
    "#建立property\n",
    "#預設為object(python的內置函數),Person(預設為Object)\n",
    "#初始化(__init__)\n",
    "#self可以省略\n",
    "class Person:\n",
    "    def __init__(self, name:str, age:int):\n",
    "        #建立attribute\n",
    "        self.name = name\n",
    "        self.age = age\n",
    "\n",
    "\n",
    "    #實體方法(instance method)\n",
    "    def echo(self):\n",
    "        print(f'我的姓名是{self.name}')\n",
    "        print(f'我的年齡是{self.age}')"
   ]
  },
  {
   "cell_type": "code",
   "execution_count": 43,
   "metadata": {},
   "outputs": [],
   "source": [
    "class Student(Person):\n",
    "    def __init__(self,name:str, age:int, score:int):\n",
    "        super().__init__(name=name, age=age)#呼叫父Person的__init__\n",
    "        self.__score = score\n",
    "\n",
    "    \n",
    "    #property在執行時不用()\n",
    "    @property\n",
    "    def score(self)->int:\n",
    "        return self.__score\n",
    "\n",
    "    def echo(self):\n",
    "        super().echo()\n",
    "        print(f'我的分數是{self.score}')"
   ]
  },
  {
   "cell_type": "code",
   "execution_count": 27,
   "metadata": {},
   "outputs": [
    {
     "name": "stdout",
     "output_type": "stream",
     "text": [
      "我的姓名是Anna Cheng\n",
      "我的年齡是18\n"
     ]
    }
   ],
   "source": [
    "p1 = Person('Anna Cheng', age=18)\n",
    "p1.echo()"
   ]
  },
  {
   "cell_type": "code",
   "execution_count": 40,
   "metadata": {},
   "outputs": [
    {
     "name": "stdout",
     "output_type": "stream",
     "text": [
      "我的姓名是Annawer Cheng\n",
      "我的年齡是50\n"
     ]
    }
   ],
   "source": [
    "p2= Person(age = 50, name = 'Annawer Cheng')\n",
    "p2.echo()"
   ]
  },
  {
   "cell_type": "code",
   "execution_count": 47,
   "metadata": {},
   "outputs": [
    {
     "name": "stdout",
     "output_type": "stream",
     "text": [
      "我的姓名是小張\n",
      "我的年齡是17\n",
      "我的分數是245\n"
     ]
    }
   ],
   "source": [
    "s1:Student = Student('小張', age=17, score=245)\n",
    "s1.score#property在執行時不用()\n",
    "s1.echo()"
   ]
  },
  {
   "cell_type": "code",
   "execution_count": 45,
   "metadata": {},
   "outputs": [
    {
     "name": "stdout",
     "output_type": "stream",
     "text": [
      "我的姓名是小王\n",
      "我的年齡是18\n",
      "我的分數是250\n"
     ]
    }
   ],
   "source": [
    "s2:Student = Student('小王', age=18, score=250)\n",
    "s2.echo()"
   ]
  }
 ],
 "metadata": {
  "kernelspec": {
   "display_name": "base",
   "language": "python",
   "name": "python3"
  },
  "language_info": {
   "codemirror_mode": {
    "name": "ipython",
    "version": 3
   },
   "file_extension": ".py",
   "mimetype": "text/x-python",
   "name": "python",
   "nbconvert_exporter": "python",
   "pygments_lexer": "ipython3",
   "version": "3.12.2"
  }
 },
 "nbformat": 4,
 "nbformat_minor": 2
}
