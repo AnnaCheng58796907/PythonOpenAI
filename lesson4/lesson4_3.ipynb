{
 "cells": [
  {
   "cell_type": "code",
   "execution_count": null,
   "metadata": {},
   "outputs": [],
   "source": [
    "#建立property\n",
    "#預設為object(python的內置函數),Person(預設為Object)\n",
    "#初始化(__init__)\n",
    "#self可以省略\n",
    "class Person:\n",
    "    def __init__(self, name:str, age:int):\n",
    "        #建立attribute\n",
    "        self.name = name\n",
    "        self.age = age\n",
    "\n",
    "\n",
    "    #實體方法(instance method)\n",
    "    def echo(self):\n",
    "        print(f'我的姓名是{self.name}')\n",
    "        print(f'我的年齡是{self.age}')"
   ]
  },
  {
   "cell_type": "code",
   "execution_count": 27,
   "metadata": {},
   "outputs": [
    {
     "name": "stdout",
     "output_type": "stream",
     "text": [
      "我的姓名是Anna Cheng\n",
      "我的年齡是18\n"
     ]
    }
   ],
   "source": [
    "p1 = Person('Anna Cheng', age=18)\n",
    "p1.echo()"
   ]
  },
  {
   "cell_type": "code",
   "execution_count": 28,
   "metadata": {},
   "outputs": [
    {
     "name": "stdout",
     "output_type": "stream",
     "text": [
      "我的姓名是Annawer Cheng\n",
      "我的年齡是50\n"
     ]
    }
   ],
   "source": [
    "p2= Person(age = 50, name = 'Annawer Cheng')\n",
    "p2.echo()"
   ]
  }
 ],
 "metadata": {
  "kernelspec": {
   "display_name": "base",
   "language": "python",
   "name": "python3"
  },
  "language_info": {
   "codemirror_mode": {
    "name": "ipython",
    "version": 3
   },
   "file_extension": ".py",
   "mimetype": "text/x-python",
   "name": "python",
   "nbconvert_exporter": "python",
   "pygments_lexer": "ipython3",
   "version": "3.12.2"
  }
 },
 "nbformat": 4,
 "nbformat_minor": 2
}
