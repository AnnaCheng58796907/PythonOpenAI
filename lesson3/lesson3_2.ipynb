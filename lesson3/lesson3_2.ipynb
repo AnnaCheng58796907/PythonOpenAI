{
 "cells": [
  {
   "cell_type": "code",
   "execution_count": null,
   "metadata": {},
   "outputs": [
    {
     "data": {
      "text/plain": [
       "78"
      ]
     },
     "execution_count": 1,
     "metadata": {},
     "output_type": "execute_result"
    }
   ],
   "source": [
    "import random\n",
    "\n",
    "min = 1\n",
    "max = 100\n",
    "\n",
    "target = random.randint(min, max)\n",
    "target\n",
    "print('==========猜數字遊戲==========\\n')"
   ]
  },
  {
   "cell_type": "code",
   "execution_count": 4,
   "metadata": {},
   "outputs": [
    {
     "name": "stdout",
     "output_type": "stream",
     "text": [
      "===========猜數字遊戲===========\n",
      "\n",
      "再小一點\n",
      "\n",
      "您已經猜了1次\n",
      "再小一點\n",
      "\n",
      "您已經猜了2次\n",
      "再小一點\n",
      "\n",
      "您已經猜了3次\n",
      "再小一點\n",
      "\n",
      "您已經猜了4次\n",
      "再大一點\n",
      "\n",
      "您已經猜了5次\n",
      "再小一點\n",
      "\n",
      "您已經猜了6次\n",
      "賓果! 恭喜你猜對了6\n",
      "\n",
      "您猜對了7次\n",
      "應用程式結束\n"
     ]
    }
   ],
   "source": [
    "import random\n",
    "\n",
    "min = 1\n",
    "max = 100\n",
    "\n",
    "print('===========猜數字遊戲===========\\n')\n",
    "target = random.randint(min, max)\n",
    "count = 0\n",
    "while(True):\n",
    "    keyin = int(input(f'請輸入數值{min}~{max}:'))\n",
    "    count += 1\n",
    "    if keyin <= max and keyin >= min:\n",
    "        if target == keyin:\n",
    "            print(f'賓果! 恭喜你猜對了{target}\\n')\n",
    "            print(f'您猜對了{count}次')\n",
    "            break\n",
    "        elif keyin > target:\n",
    "            print('再小一點\\n')\n",
    "            max = keyin - 1\n",
    "            \n",
    "        elif keyin < target:\n",
    "            print('再大一點\\n')\n",
    "            min = keyin + 1\n",
    "        \n",
    "        print(f'您已經猜了{count}次')\n",
    "    \n",
    "    else:\n",
    "        print('輸入範圍有誤!')\n",
    "\n",
    "print('應用程式結束')\n"
   ]
  }
 ],
 "metadata": {
  "kernelspec": {
   "display_name": "base",
   "language": "python",
   "name": "python3"
  },
  "language_info": {
   "codemirror_mode": {
    "name": "ipython",
    "version": 3
   },
   "file_extension": ".py",
   "mimetype": "text/x-python",
   "name": "python",
   "nbconvert_exporter": "python",
   "pygments_lexer": "ipython3",
   "version": "undefined.undefined.undefined"
  }
 },
 "nbformat": 4,
 "nbformat_minor": 2
}
