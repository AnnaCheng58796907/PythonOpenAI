{
 "cells": [
  {
   "cell_type": "code",
   "execution_count": 2,
   "metadata": {},
   "outputs": [
    {
     "name": "stdout",
     "output_type": "stream",
     "text": [
      "14\n",
      "===========猜數字遊戲===========\n",
      "\n",
      "再小一點\n",
      "\n",
      "您已經猜了1次\n",
      "賓果! 恭喜你猜對了14\n",
      "\n",
      "您猜對了2次\n",
      "27\n",
      "===========猜數字遊戲===========\n",
      "\n",
      "賓果! 恭喜你猜對了27\n",
      "\n",
      "您猜對了1次\n",
      "應用程式結束\n"
     ]
    }
   ],
   "source": [
    "import random\n",
    "while(True):\n",
    "    min = 1\n",
    "    max = 100\n",
    "\n",
    "    target = random.randint(min, max)\n",
    "    count = 0\n",
    "    print(target)\n",
    "\n",
    "    print('===========猜數字遊戲===========\\n')\n",
    "    while(True):\n",
    "        keyin = int(input(f'請輸入數值{min}~{max}:'))\n",
    "        count += 1\n",
    "        if keyin <= max and keyin >= min:\n",
    "            if target == keyin:\n",
    "                print(f'賓果! 恭喜你猜對了{target}\\n')\n",
    "                print(f'您猜對了{count}次')\n",
    "                break\n",
    "            elif keyin > target:\n",
    "                print('再小一點\\n')\n",
    "                max = keyin - 1\n",
    "                \n",
    "            elif keyin < target:\n",
    "                print('再大一點\\n')\n",
    "                min = keyin + 1\n",
    "            \n",
    "            print(f'您已經猜了{count}次')\n",
    "        \n",
    "        else:\n",
    "            print('輸入範圍有誤!')\n",
    "    answering = input('請問還要繼續嗎?(y/n)')\n",
    "    if answering == 'n':\n",
    "        break\n",
    "print('應用程式結束')"
   ]
  },
  {
   "cell_type": "code",
   "execution_count": 3,
   "metadata": {},
   "outputs": [
    {
     "name": "stdout",
     "output_type": "stream",
     "text": [
      "41\n",
      "===========猜數字遊戲===========\n",
      "\n",
      "再小一點\n",
      "\n",
      "您已經猜了1次\n",
      "再大一點\n",
      "\n",
      "您已經猜了2次\n",
      "賓果! 恭喜你猜對了41\n",
      "\n",
      "您猜對了3次\n",
      "78\n",
      "===========猜數字遊戲===========\n",
      "\n",
      "賓果! 恭喜你猜對了78\n",
      "\n",
      "您猜對了1次\n",
      "應用程式結束\n"
     ]
    }
   ],
   "source": [
    "import random\n",
    "\n",
    "def play_game():\n",
    "    min = 1\n",
    "    max = 100\n",
    "\n",
    "    target = random.randint(min, max)\n",
    "    count = 0\n",
    "    print(target)\n",
    "\n",
    "    print('===========猜數字遊戲===========\\n')\n",
    "    while(True):\n",
    "        keyin = int(input(f'請輸入數值{min}~{max}:'))\n",
    "        count += 1\n",
    "        if keyin <= max and keyin >= min:\n",
    "            if target == keyin:\n",
    "                print(f'賓果! 恭喜你猜對了{target}\\n')\n",
    "                print(f'您猜對了{count}次')\n",
    "                break\n",
    "            elif keyin > target:\n",
    "                print('再小一點\\n')\n",
    "                max = keyin - 1\n",
    "                \n",
    "            elif keyin < target:\n",
    "                print('再大一點\\n')\n",
    "                min = keyin + 1\n",
    "            \n",
    "            print(f'您已經猜了{count}次')\n",
    "        \n",
    "        else:\n",
    "            print('輸入範圍有誤!')\n",
    "\n",
    "while(True):\n",
    "    play_game()\n",
    "    answering = input('請問還要繼續嗎?(y/n)')\n",
    "    if answering == 'n':\n",
    "        break\n",
    "print('應用程式結束')"
   ]
  },
  {
   "cell_type": "code",
   "execution_count": 4,
   "metadata": {},
   "outputs": [
    {
     "data": {
      "text/plain": [
       "5.0"
      ]
     },
     "execution_count": 4,
     "metadata": {},
     "output_type": "execute_result"
    }
   ],
   "source": [
    "import math\n",
    "def theorem(side:float, another_side:float) -> float:\n",
    "    return math.sqrt(side ** 2 +another_side**2)\n",
    "\n",
    "theorem(3,4)"
   ]
  }
 ],
 "metadata": {
  "kernelspec": {
   "display_name": "base",
   "language": "python",
   "name": "python3"
  },
  "language_info": {
   "codemirror_mode": {
    "name": "ipython",
    "version": 3
   },
   "file_extension": ".py",
   "mimetype": "text/x-python",
   "name": "python",
   "nbconvert_exporter": "python",
   "pygments_lexer": "ipython3",
   "version": "3.12.2"
  }
 },
 "nbformat": 4,
 "nbformat_minor": 2
}
